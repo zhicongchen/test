{
 "cells": [
  {
   "cell_type": "code",
   "execution_count": 4,
   "id": "4b2bd1e9",
   "metadata": {},
   "outputs": [
    {
     "name": "stdout",
     "output_type": "stream",
     "text": [
      "Hello Python World\n"
     ]
    }
   ],
   "source": [
    "print(\"Hello Python World\")"
   ]
  },
  {
   "cell_type": "code",
   "execution_count": null,
   "id": "f80282dc",
   "metadata": {},
   "outputs": [],
   "source": [
    "\"Hello Python World\"\n",
    "\n",
    "def\n",
    "\n",
    "class\n",
    "\n",
    "def\n",
    "\n",
    "else\n",
    "\n",
    "import\n",
    "\n",
    "is\n",
    "\n",
    "in\n",
    "\n",
    "return\n",
    "\n",
    "=\n",
    "\n",
    "=="
   ]
  },
  {
   "cell_type": "code",
   "execution_count": null,
   "id": "9e5356ad",
   "metadata": {},
   "outputs": [],
   "source": [
    "Hello13 2647829_1634897216_______ = \"\""
   ]
  },
  {
   "cell_type": "code",
   "execution_count": 8,
   "id": "8dfb61cc",
   "metadata": {},
   "outputs": [
    {
     "name": "stdout",
     "output_type": "stream",
     "text": [
      "Hello \n",
      "Python \n",
      "World\n",
      "\n"
     ]
    }
   ],
   "source": [
    "message = \"\"\"Hello \n",
    "Python \n",
    "World\n",
    "\"\"\"\n",
    "print(message)"
   ]
  },
  {
   "cell_type": "code",
   "execution_count": 9,
   "id": "bb087e10",
   "metadata": {},
   "outputs": [
    {
     "name": "stdout",
     "output_type": "stream",
     "text": [
      "Hello Python World\n"
     ]
    }
   ],
   "source": [
    "message = \"Hello Python World\"\n",
    "print(message)"
   ]
  },
  {
   "cell_type": "code",
   "execution_count": 13,
   "id": "7c31a570",
   "metadata": {},
   "outputs": [
    {
     "name": "stdout",
     "output_type": "stream",
     "text": [
      "Ada Lovelace\n",
      "ADA LOVELACE\n",
      "ada lovelace\n"
     ]
    }
   ],
   "source": [
    "message = \"ada lovelace\"\n",
    "message = message.title()\n",
    "print(message)\n",
    "message = message.upper()\n",
    "print(message)\n",
    "message = message.lower()\n",
    "print(message)"
   ]
  },
  {
   "cell_type": "code",
   "execution_count": 17,
   "id": "416dcfa6",
   "metadata": {},
   "outputs": [
    {
     "name": "stdout",
     "output_type": "stream",
     "text": [
      "ada lovelace\n"
     ]
    }
   ],
   "source": [
    "first_name = \"ada\"\n",
    "last_name = \"lovelace\"\n",
    "\n",
    "full_name = f\"{first_name} {last_name}\"\n",
    "print(full_name)"
   ]
  },
  {
   "cell_type": "code",
   "execution_count": 19,
   "id": "648728a2",
   "metadata": {},
   "outputs": [
    {
     "name": "stdout",
     "output_type": "stream",
     "text": [
      "Hello , Ada Lovelace!\n"
     ]
    }
   ],
   "source": [
    "message = f\"Hello, {full_name.title()}!\"\n",
    "print(message)"
   ]
  },
  {
   "cell_type": "code",
   "execution_count": 20,
   "id": "4f29a0f2",
   "metadata": {},
   "outputs": [
    {
     "name": "stdout",
     "output_type": "stream",
     "text": [
      "Python Rust\n",
      "\n",
      "Python\tRust\n",
      "\n",
      "Python\n",
      "Rust\n"
     ]
    }
   ],
   "source": [
    "print('Python Rust')\n",
    "print()\n",
    "print('Python\\tRust')\n",
    "print()\n",
    "print('Python\\nRust')"
   ]
  },
  {
   "cell_type": "code",
   "execution_count": null,
   "id": "5354f3f4",
   "metadata": {},
   "outputs": [],
   "source": []
  }
 ],
 "metadata": {
  "kernelspec": {
   "display_name": "Python 3 (ipykernel)",
   "language": "python",
   "name": "python3"
  },
  "language_info": {
   "codemirror_mode": {
    "name": "ipython",
    "version": 3
   },
   "file_extension": ".py",
   "mimetype": "text/x-python",
   "name": "python",
   "nbconvert_exporter": "python",
   "pygments_lexer": "ipython3",
   "version": "3.11.5"
  }
 },
 "nbformat": 4,
 "nbformat_minor": 5
}
